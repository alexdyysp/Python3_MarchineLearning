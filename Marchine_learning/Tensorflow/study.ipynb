{
 "cells": [
  {
   "cell_type": "code",
   "execution_count": 1,
   "metadata": {},
   "outputs": [
    {
     "name": "stdout",
     "output_type": "stream",
     "text": [
      "Tensor(\"Add:0\", shape=(), dtype=float32)\n",
      "11.0\n"
     ]
    }
   ],
   "source": [
    "import tensorflow as tf\n",
    "import os\n",
    "os.environ['TF_CPP_MIN_LOG_LEVEL']='2'\n"
   ]
  },
  {
   "cell_type": "code",
   "execution_count": 14,
   "metadata": {},
   "outputs": [
    {
     "name": "stdout",
     "output_type": "stream",
     "text": [
      "Tensor(\"Add_11:0\", shape=(), dtype=float32)\n",
      "11.0\n",
      "[11.0, 5.0, 6.0]\n",
      "11.0\n",
      "8.0\n",
      "<tensorflow.python.framework.ops.Graph object at 0x7f1175411e48>\n",
      "<tensorflow.python.framework.ops.Graph object at 0x7f1175411e48>\n",
      "<tensorflow.python.framework.ops.Graph object at 0x7f1175411e48>\n"
     ]
    }
   ],
   "source": [
    "# 实现加法运算\n",
    "a = tf.constant(5.0)\n",
    "b = tf.constant(6.0)\n",
    "sum1 = tf.add(a, b)\n",
    "\n",
    "# 张量的重载\n",
    "val = 3\n",
    "sum2 = a + val\n",
    "\n",
    "# 默认这张图，相当于分配一段内存\n",
    "graph = tf.get_default_graph() \n",
    "\n",
    "print(sum1)\n",
    "\n",
    "# 开启一个会话，只能运行一个图结构\n",
    "# config = tf.ConfigProto(log_device_placement = True) 可以查看程序在哪里进行运算，命令行显示\n",
    "with tf.Session() as sess:\n",
    "# 可以指定运行一个图，graph=g\n",
    "# with tf.Session(graph = g) as sess:\n",
    "    # print(sess.run(c))  # 跟着运行g图\n",
    "    print(sess.run(sum1)) # 就run运行跟session有关系\n",
    "    # sess.run()只能run定义的张量，不能run Python中的type\n",
    "    print(sess.run([sum1, a, b])) # 使用列表run多个值\n",
    "    print(sum1.eval())    # 只要由上下文交互环境，就可以使用eval\n",
    "    print(sum2.eval())    # 张量也能重载\n",
    "    print(a.graph)\n",
    "    print(sum1.graph)\n",
    "    print(sess.graph)"
   ]
  },
  {
   "cell_type": "code",
   "execution_count": 10,
   "metadata": {},
   "outputs": [
    {
     "name": "stdout",
     "output_type": "stream",
     "text": [
      "<tensorflow.python.framework.ops.Graph object at 0x7f11a95e29b0>\n"
     ]
    }
   ],
   "source": [
    "# 图的创建\n",
    "g = tf.Graph()\n",
    "\n",
    "with g.as_default():\n",
    "    c = tf.constant(11.0)\n",
    "    print(c.graph)\n"
   ]
  },
  {
   "cell_type": "code",
   "execution_count": 24,
   "metadata": {},
   "outputs": [
    {
     "name": "stdout",
     "output_type": "stream",
     "text": [
      "[[ 1.  2.  3.]\n",
      " [ 4.  5.  6.]]\n",
      "[[   1.    2.    3.]\n",
      " [   4.    5.    6.]\n",
      " [  11.   23.  451.]]\n",
      "<tensorflow.python.framework.ops.Graph object at 0x7f1175411e48>\n",
      "shape of a:  ()\n",
      "shape of plt:  (?, 3)\n",
      "name of a Const_22:0\n",
      "name: \"Const_22\"\n",
      "op: \"Const\"\n",
      "attr {\n",
      "  key: \"dtype\"\n",
      "  value {\n",
      "    type: DT_FLOAT\n",
      "  }\n",
      "}\n",
      "attr {\n",
      "  key: \"value\"\n",
      "  value {\n",
      "    tensor {\n",
      "      dtype: DT_FLOAT\n",
      "      tensor_shape {\n",
      "      }\n",
      "      float_val: 5.0\n",
      "    }\n",
      "  }\n",
      "}\n",
      "\n"
     ]
    }
   ],
   "source": [
    "# session的run()方法，配合placeholder实现，实时数据进行训练\n",
    "plt = tf.placeholder(tf.float32, [None, 3]) # placeholder占位符，\n",
    "with tf.Session() as sess:\n",
    "    print(sess.run(plt, feed_dict={plt: [[1,2,3], [4,5,6]]})) # feed_dict字典\n",
    "    print(sess.run(plt, feed_dict={plt: [[1,2,3], [4,5,6],[11,23,451]]}))\n",
    "    print(sess.graph)\n",
    "    print(\"shape of a: \", a.shape)\n",
    "    print(\"shape of plt: \", plt.shape) # shape of tensor\n",
    "    print(\"name of a\", a.name) # name of tensor\n",
    "    print(a.op) # content of op "
   ]
  },
  {
   "cell_type": "code",
   "execution_count": 32,
   "metadata": {},
   "outputs": [
    {
     "name": "stdout",
     "output_type": "stream",
     "text": [
      "Tensor(\"Placeholder_16:0\", shape=(?, 2), dtype=float32)\n",
      "Tensor(\"Placeholder_16:0\", shape=(3, 2), dtype=float32)\n",
      "Tensor(\"Reshape_2:0\", shape=(2, 3), dtype=float32)\n"
     ]
    }
   ],
   "source": [
    "# tensor reshape: static and dynamic\n",
    "plt = tf.placeholder(tf.float32, [None, 2])\n",
    "print(plt)\n",
    "plt.set_shape([3,2]) # 用static性状固定后，就不能再set_shape()改变了\n",
    "print(plt)\n",
    "plt_reshape = tf.reshape(plt, [2,3]) #dynamic性状,用reshape可以改变static,注意元素个数不能变\n",
    "print(plt_reshape)\n",
    "with tf.Session() as sess:\n",
    "    pass"
   ]
  },
  {
   "cell_type": "code",
   "execution_count": 42,
   "metadata": {
    "scrolled": false
   },
   "outputs": [
    {
     "name": "stdout",
     "output_type": "stream",
     "text": [
      "[[ 1.  2.  3.]\n",
      " [ 4.  5.  6.]]\n",
      "Tensor(\"Cast_9:0\", shape=(2, 3), dtype=float32)\n"
     ]
    }
   ],
   "source": [
    "# change type of tensor  \n",
    "a = tf.cast([[1,2,3],[4,5,6]],tf.float32)\n",
    "with tf.Session() as sess:\n",
    "    print(a.eval())\n",
    "    print(a)"
   ]
  },
  {
   "cell_type": "code",
   "execution_count": null,
   "metadata": {},
   "outputs": [],
   "source": []
  }
 ],
 "metadata": {
  "kernelspec": {
   "display_name": "Python 3",
   "language": "python",
   "name": "python3"
  },
  "language_info": {
   "codemirror_mode": {
    "name": "ipython",
    "version": 3
   },
   "file_extension": ".py",
   "mimetype": "text/x-python",
   "name": "python",
   "nbconvert_exporter": "python",
   "pygments_lexer": "ipython3",
   "version": "3.6.5"
  }
 },
 "nbformat": 4,
 "nbformat_minor": 2
}
