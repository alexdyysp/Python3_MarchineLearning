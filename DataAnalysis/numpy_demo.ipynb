{
 "cells": [
  {
   "cell_type": "markdown",
   "metadata": {},
   "source": [
    "# numpy"
   ]
  },
  {
   "cell_type": "code",
   "execution_count": 20,
   "metadata": {},
   "outputs": [
    {
     "name": "stdout",
     "output_type": "stream",
     "text": [
      "t1 = [0 1 2 3 4 5 6 7 8 9]\n",
      "t1.dtype = int64\n",
      "t2 = [False  True  True False]\n",
      "t3 = [0 1 1 0] int8\n",
      "t4 = [ 0.22585758  0.9913583   0.62147531  0.04202961  0.63619583  0.71781337\n",
      "  0.58213982  0.71346304  0.51479025  0.14770472] float64\n",
      "t5 = [ 0.23  0.99  0.62  0.04  0.64  0.72  0.58  0.71  0.51  0.15]\n"
     ]
    }
   ],
   "source": [
    "import numpy as np\n",
    "import random\n",
    "# 生成数组\n",
    "t1 = np.arange(10)\n",
    "print(\"t1 =\", t1)\n",
    "print(\"t1.dtype =\", t1.dtype)\n",
    "# 按数据类型新建数组\n",
    "t2 = np.array([0,1,1,0], dtype=bool)\n",
    "print(\"t2 =\", t2)\n",
    "# 修改数组数据类型\n",
    "t3 = t2.astype(\"int8\")\n",
    "print(\"t3 =\", t3, t3.dtype)\n",
    "# 生成随机小数\n",
    "t4 = np.array([random.random() for i in range(10)]) \n",
    "print(\"t4 =\", t4, t4.dtype)\n",
    "# 保留小数位\n",
    "t5 = np.round(t4, 2)\n",
    "print(\"t5 =\", t5)"
   ]
  },
  {
   "cell_type": "markdown",
   "metadata": {},
   "source": [
    "# numpy加载数据文件csv"
   ]
  },
  {
   "cell_type": "code",
   "execution_count": 4,
   "metadata": {},
   "outputs": [
    {
     "name": "stdout",
     "output_type": "stream",
     "text": [
      "t1 =\n",
      " [[4394029  320053    5931   46245]\n",
      " [7860119  185853   26679       0]\n",
      " [5845909  576597   39774  170708]\n",
      " ..., \n",
      " [ 142463    4231     148     279]\n",
      " [2162240   41032    1384    4737]\n",
      " [ 515000   34727     195    4722]]\n",
      "t2 =\n",
      " [[7426393   78240   13548     705]\n",
      " [ 494203    2651    1309       0]\n",
      " [ 142819   13119     151    1141]\n",
      " ..., \n",
      " [ 109222    4840      35     212]\n",
      " [ 626223   22962     532    1559]\n",
      " [  99228    1699      23     135]]\n",
      "[[0]\n",
      " [0]\n",
      " [0]\n",
      " ..., \n",
      " [0]\n",
      " [0]\n",
      " [0]] (1688, 1) (1688, 4)\n",
      "拼接后us_data =\n",
      " [[4394029  320053    5931   46245       0]\n",
      " [7860119  185853   26679       0       0]\n",
      " [5845909  576597   39774  170708       0]\n",
      " ..., \n",
      " [ 142463    4231     148     279       0]\n",
      " [2162240   41032    1384    4737       0]\n",
      " [ 515000   34727     195    4722       0]]\n",
      "拼接后uk_data =\n",
      " [[7426393   78240   13548     705       1]\n",
      " [ 494203    2651    1309       0       1]\n",
      " [ 142819   13119     151    1141       1]\n",
      " ..., \n",
      " [ 109222    4840      35     212       1]\n",
      " [ 626223   22962     532    1559       1]\n",
      " [  99228    1699      23     135       1]]\n",
      "final_data =\n",
      " [[4394029  320053    5931   46245       0]\n",
      " [7860119  185853   26679       0       0]\n",
      " [5845909  576597   39774  170708       0]\n",
      " ..., \n",
      " [ 109222    4840      35     212       1]\n",
      " [ 626223   22962     532    1559       1]\n",
      " [  99228    1699      23     135       1]]\n"
     ]
    },
    {
     "data": {
      "text/plain": [
       "array([[0, 0, 0, 0, 0],\n",
       "       [0, 0, 0, 0, 0],\n",
       "       [0, 0, 0, 0, 0],\n",
       "       ..., \n",
       "       [0, 0, 0, 0, 0],\n",
       "       [0, 0, 0, 0, 0],\n",
       "       [0, 0, 0, 0, 0]])"
      ]
     },
     "execution_count": 4,
     "metadata": {},
     "output_type": "execute_result"
    }
   ],
   "source": [
    "import numpy as np\n",
    "# get file path\n",
    "us_file_path = \"/usr/python_ML/data_analysis/youtube_video_data/US_video_data_numbers.csv\"\n",
    "uk_file_path = \"/usr/python_ML/data_analysis/youtube_video_data/GB_video_data_numbers.csv\"\n",
    "# get data from csv\n",
    "us_data = np.loadtxt(us_file_path, delimiter=\",\", dtype=\"int\")\n",
    "uk_data = np.loadtxt(uk_file_path, delimiter=\",\", dtype=\"int\")\n",
    "print(\"t1 =\\n\", us_data)\n",
    "print(\"t2 =\\n\", uk_data)\n",
    "#\n",
    "zeros_data = np.zeros((us_data.shape[0], 1)).astype(int)\n",
    "ones_data = np.ones((uk_data.shape[0],1)).astype(int)\n",
    "print(zeros_data, zeros_data.shape, us_data.shape)\n",
    "us_data = np.hstack((us_data, zeros_data))\n",
    "uk_data = np.hstack((uk_data, ones_data))\n",
    "print(\"拼接后us_data =\\n\", us_data)\n",
    "print(\"拼接后uk_data =\\n\", uk_data)\n",
    "# 拼接两组数据\n",
    "final_data = np.vstack((us_data, uk_data))\n",
    "print(\"final_data =\\n\", final_data)\n",
    "\n",
    "np.isnan(final_data).astype(int).sum()"
   ]
  },
  {
   "cell_type": "code",
   "execution_count": null,
   "metadata": {},
   "outputs": [],
   "source": []
  },
  {
   "cell_type": "code",
   "execution_count": null,
   "metadata": {},
   "outputs": [],
   "source": []
  }
 ],
 "metadata": {
  "kernelspec": {
   "display_name": "Python 3",
   "language": "python",
   "name": "python3"
  },
  "language_info": {
   "codemirror_mode": {
    "name": "ipython",
    "version": 3
   },
   "file_extension": ".py",
   "mimetype": "text/x-python",
   "name": "python",
   "nbconvert_exporter": "python",
   "pygments_lexer": "ipython3",
   "version": "3.6.5"
  }
 },
 "nbformat": 4,
 "nbformat_minor": 2
}
